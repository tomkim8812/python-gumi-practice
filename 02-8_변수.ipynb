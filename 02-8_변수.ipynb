{
 "cells": [
  {
   "cell_type": "markdown",
   "metadata": {},
   "source": [
    "### 변수는 어떻게 만들까\n",
    "* 변수_이름 = 변수에_저장할_값"
   ]
  },
  {
   "cell_type": "code",
   "execution_count": 3,
   "metadata": {},
   "outputs": [],
   "source": [
    "# int a=1 c나 java에서는 자료형의 타입을 선언\n",
    "# 파이썬은 자료현 타입을 선언하지 않는다\n",
    "a=1\n",
    "b='python'\n",
    "c=[1,2,3]\n",
    "temp_num=1\n",
    "tempNum=1\n",
    "TempNum=1\n",
    "# temp-num=1 변수 '-'로 인식\n",
    "# 1temp_num=1숫자로 시작하는 변수는 사용할 수 없음\n",
    "# len=1 내장함수는 변수로 사용하지 않는다\n",
    "# print(len)"
   ]
  },
  {
   "cell_type": "code",
   "execution_count": null,
   "metadata": {},
   "outputs": [],
   "source": []
  }
 ],
 "metadata": {
  "kernelspec": {
   "display_name": "Python 3",
   "language": "python",
   "name": "python3"
  },
  "language_info": {
   "codemirror_mode": {
    "name": "ipython",
    "version": 3
   },
   "file_extension": ".py",
   "mimetype": "text/x-python",
   "name": "python",
   "nbconvert_exporter": "python",
   "pygments_lexer": "ipython3",
   "version": "3.12.5"
  }
 },
 "nbformat": 4,
 "nbformat_minor": 2
}
