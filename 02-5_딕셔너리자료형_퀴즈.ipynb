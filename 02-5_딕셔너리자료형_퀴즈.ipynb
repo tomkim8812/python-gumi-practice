{
 "cells": [
  {
   "cell_type": "markdown",
   "metadata": {},
   "source": [
    "1. scores = {'Alice': 85, 'Bob': 92, 'Charlie': 78} Charlie의 점수를 출력하세요 "
   ]
  },
  {
   "cell_type": "code",
   "execution_count": 1,
   "metadata": {},
   "outputs": [
    {
     "name": "stdout",
     "output_type": "stream",
     "text": [
      "78\n"
     ]
    }
   ],
   "source": [
    "scores = {'Alice': 85, 'Bob': 92, 'Charlie': 78}\n",
    "print(scores['Charlie'])"
   ]
  },
  {
   "cell_type": "markdown",
   "metadata": {},
   "source": [
    "2. person = {'name': 'Alice', 'age': 25} 주어졌을 때 이름과 나이를 출력하는 프로그램을 만드세요. "
   ]
  },
  {
   "cell_type": "code",
   "execution_count": 5,
   "metadata": {},
   "outputs": [
    {
     "name": "stdout",
     "output_type": "stream",
     "text": [
      "이름:  Alice\n",
      "나이:  25\n"
     ]
    }
   ],
   "source": [
    "person = {'name': 'Alice', 'age': 25}\n",
    "print(\"이름: \", person['name'])\n",
    "print(\"나이: \", person['age'])"
   ]
  },
  {
   "cell_type": "markdown",
   "metadata": {},
   "source": [
    "3. grades = {'math': 90, 'science': 85, 'english': 88} 주어진 딕셔너리의 과목의 합과 평균을 구해주세요"
   ]
  },
  {
   "cell_type": "code",
   "execution_count": 17,
   "metadata": {},
   "outputs": [
    {
     "name": "stdout",
     "output_type": "stream",
     "text": [
      "과목의 합:  263\n",
      "과목의 평균:  87.66666666666667\n"
     ]
    }
   ],
   "source": [
    "grades = {'math': 90, 'science': 85, 'english': 88}\n",
    "a=[grades.get('math'), grades.get('science'), grades.get('english')]\n",
    "print(\"과목의 합: \", a[0]+a[1]+a[2])\n",
    "print(\"과목의 평균: \", (a[0]+a[1]+a[2])/3)"
   ]
  },
  {
   "cell_type": "markdown",
   "metadata": {},
   "source": [
    "4. employee = {'name': 'ken', 'position': 'Manager', 'salary': 5000} 에서 salary 요소를 삭제해 주세요 "
   ]
  },
  {
   "cell_type": "code",
   "execution_count": 19,
   "metadata": {},
   "outputs": [
    {
     "name": "stdout",
     "output_type": "stream",
     "text": [
      "{'name': 'ken', 'position': 'Manager'}\n"
     ]
    }
   ],
   "source": [
    "employee = {'name': 'ken', 'position': 'Manager', 'salary': 5000}\n",
    "del employee['salary']\n",
    "print(employee)"
   ]
  },
  {
   "cell_type": "markdown",
   "metadata": {},
   "source": [
    "5. foods = {\"딸기\": 1000, \"사과\": 2000, \"수박\": 3000} 에서 \"김치\": 5000 을 추가해 주세요 |"
   ]
  },
  {
   "cell_type": "code",
   "execution_count": 22,
   "metadata": {},
   "outputs": [
    {
     "name": "stdout",
     "output_type": "stream",
     "text": [
      "{'딸기': 1000, '사과': 2000, '수박': 3000, '김치': 5000}\n"
     ]
    }
   ],
   "source": [
    "foods = {\"딸기\": 1000, \"사과\": 2000, \"수박\": 3000}\n",
    "foods['김치'] = 5000\n",
    "print(foods)"
   ]
  },
  {
   "cell_type": "markdown",
   "metadata": {},
   "source": [
    "6. foods = {\"딸기\": 1000, \"사과\": 2000, \"수박\": 3000} 에서 수박이 있으면 True 를 출력하는 프로그램을 만드세요"
   ]
  },
  {
   "cell_type": "code",
   "execution_count": 23,
   "metadata": {},
   "outputs": [
    {
     "name": "stdout",
     "output_type": "stream",
     "text": [
      "True\n"
     ]
    }
   ],
   "source": [
    "foods = {\"딸기\": 1000, \"사과\": 2000, \"수박\": 3000}\n",
    "print('수박' in foods)"
   ]
  }
 ],
 "metadata": {
  "kernelspec": {
   "display_name": "Python 3",
   "language": "python",
   "name": "python3"
  },
  "language_info": {
   "codemirror_mode": {
    "name": "ipython",
    "version": 3
   },
   "file_extension": ".py",
   "mimetype": "text/x-python",
   "name": "python",
   "nbconvert_exporter": "python",
   "pygments_lexer": "ipython3",
   "version": "3.12.5"
  }
 },
 "nbformat": 4,
 "nbformat_minor": 2
}
