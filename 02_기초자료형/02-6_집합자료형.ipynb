{
 "cells": [
  {
   "cell_type": "markdown",
   "metadata": {},
   "source": [
    "### 집합 자료형\n",
    "* 중복을 허용하지 않는다\n",
    "* 순서가 없다"
   ]
  },
  {
   "cell_type": "code",
   "execution_count": 5,
   "metadata": {},
   "outputs": [
    {
     "name": "stdout",
     "output_type": "stream",
     "text": [
      "{1, 2, 3}\n",
      "<class 'set'>\n",
      "{'name': 'pey', 'age': 30}\n",
      "<class 'dict'>\n"
     ]
    }
   ],
   "source": [
    "s1=set([1,2,3])\n",
    "dic={'name': 'pey', 'age': 30}\n",
    "# 집합 자료형\n",
    "print(s1)\n",
    "print(type(s1))\n",
    "# 딕셔너리\n",
    "print(dic)\n",
    "print(type(dic))"
   ]
  },
  {
   "cell_type": "code",
   "execution_count": 8,
   "metadata": {},
   "outputs": [
    {
     "name": "stdout",
     "output_type": "stream",
     "text": [
      "{'h', 'o', 'l', 'e'}\n",
      "<class 'set'>\n"
     ]
    }
   ],
   "source": [
    "s2=set('hello')\n",
    "print(s2)\n",
    "print(type(s2))"
   ]
  },
  {
   "cell_type": "code",
   "execution_count": 18,
   "metadata": {},
   "outputs": [
    {
     "name": "stdout",
     "output_type": "stream",
     "text": [
      "{1, 2, 3}\n",
      "<class 'set'>\n",
      "[1, 2, 3]\n",
      "<class 'list'>\n",
      "3\n",
      "(1, 2, 3)\n",
      "<class 'tuple'>\n"
     ]
    }
   ],
   "source": [
    "# 집합 자료형\n",
    "s1=set([1,2,3])\n",
    "print(s1)\n",
    "print(type(s1))\n",
    "# print(s1[2]) 집합 자료형은 인덱싱 x\n",
    "# 리스트 함수를 통해 자료형 변환\n",
    "l1=list(s1)\n",
    "print(l1)\n",
    "print(type(l1))\n",
    "print(l1[2])\n",
    "# 튜플 함수를 이용해 자료형 변환\n",
    "t1=tuple(s1)\n",
    "print(t1)\n",
    "print(type(t1))"
   ]
  },
  {
   "cell_type": "markdown",
   "metadata": {},
   "source": [
    "### 교집합, 합집합, 차집합 구하기\n",
    "* &, |, -"
   ]
  },
  {
   "cell_type": "code",
   "execution_count": 21,
   "metadata": {},
   "outputs": [
    {
     "name": "stdout",
     "output_type": "stream",
     "text": [
      "{1, 2, 3, 4, 5, 6}\n",
      "<class 'set'>\n",
      "{'name': 'pey', 'age': 30}\n",
      "<class 'dict'>\n"
     ]
    }
   ],
   "source": [
    "test={1,2,3,4,5,6}\n",
    "print(test)\n",
    "print(type(test))\n",
    "test2={'name': 'pey', 'age': 30}\n",
    "print(test2)\n",
    "print(type(test2))"
   ]
  },
  {
   "cell_type": "code",
   "execution_count": 24,
   "metadata": {},
   "outputs": [
    {
     "name": "stdout",
     "output_type": "stream",
     "text": [
      "{4, 5, 6}\n",
      "[4, 5, 6]\n",
      "{4, 5, 6}\n"
     ]
    }
   ],
   "source": [
    "s1=set([1,2,3,4,5,6])\n",
    "s2=set([4,5,6,7,8,9])\n",
    "result=s1&s2\n",
    "# 교집합 구하기\n",
    "print(result)\n",
    "print(list(result))\n",
    "# 교집합 - intersection()\n",
    "result=s1.intersection(s2)\n",
    "print(result)\n",
    "# 합집합 구하기\n",
    "\n",
    "# 차집합 구하기\n"
   ]
  },
  {
   "cell_type": "code",
   "execution_count": 28,
   "metadata": {},
   "outputs": [
    {
     "name": "stdout",
     "output_type": "stream",
     "text": [
      "{1, 2, 3, 4, 5, 6, 7, 8, 9}\n",
      "<class 'set'>\n",
      "union 함수를 이용한 결과:  {1, 2, 3, 4, 5, 6, 7, 8, 9}\n"
     ]
    }
   ],
   "source": [
    "# 합집합 (|)\n",
    "s1=set([1,2,3,4,5,6])\n",
    "s2=set([4,5,6,7,8,9])\n",
    "result=s1|s2\n",
    "print(result)\n",
    "print(type(result))\n",
    "# 합집합 - union()\n",
    "result=s1.union(s2)\n",
    "print(\"union 함수를 이용한 결과: \", result)"
   ]
  },
  {
   "cell_type": "code",
   "execution_count": 31,
   "metadata": {},
   "outputs": [
    {
     "name": "stdout",
     "output_type": "stream",
     "text": [
      "{1, 2, 3}\n",
      "{8, 9, 7}\n",
      "{1, 2, 3}\n",
      "{8, 9, 7}\n"
     ]
    }
   ],
   "source": [
    "s1=set([1,2,3,4,5,6])\n",
    "s2=set([4,5,6,7,8,9])\n",
    "# 차집합 (-)\n",
    "result1=s1-s2\n",
    "print(result1)\n",
    "result2=s2-s1\n",
    "print(result2)\n",
    "# 차집합 - difference()\n",
    "result1=s1.difference(s2)\n",
    "print(result1)\n",
    "result2=s2.difference(s1)\n",
    "print(result2)"
   ]
  },
  {
   "cell_type": "markdown",
   "metadata": {},
   "source": [
    "### 집합 자료형 관련 함수"
   ]
  },
  {
   "cell_type": "code",
   "execution_count": 41,
   "metadata": {},
   "outputs": [
    {
     "name": "stdout",
     "output_type": "stream",
     "text": [
      "{1, 2, 3, 4}\n"
     ]
    }
   ],
   "source": [
    "# 값 1개 추가하기 - add()\n",
    "s1=set([1,2,3])\n",
    "s1.add(4)\n",
    "print(s1)\n",
    "# s1.add([2,3]) 요소 1개만 추가 가능\n",
    "# print(s1)"
   ]
  },
  {
   "cell_type": "code",
   "execution_count": 39,
   "metadata": {},
   "outputs": [
    {
     "name": "stdout",
     "output_type": "stream",
     "text": [
      "{1, 2, 3, 4, 5, 6}\n",
      "{1, 2, 3, 4, 5, 6, 7}\n"
     ]
    }
   ],
   "source": [
    "# 값 여러 개 추가하기 - update()\n",
    "s1=set([1,2,3])\n",
    "s1.update([4,5,6])\n",
    "print(s1)\n",
    "# s1.update(7) 하나의 요소로는 업데이트의 인수로 불가능\n",
    "# print(s1)\n",
    "# s1.update([7]) 하나의 리스트는 업데이트의 인수로 가능\n",
    "# print(s1)"
   ]
  },
  {
   "cell_type": "code",
   "execution_count": 35,
   "metadata": {},
   "outputs": [
    {
     "name": "stdout",
     "output_type": "stream",
     "text": [
      "{1, 3}\n"
     ]
    }
   ],
   "source": [
    "# 특정 값 제거하기 - remove()\n",
    "s1=set([1,2,3])\n",
    "s1.remove(2)\n",
    "print(s1)"
   ]
  },
  {
   "cell_type": "code",
   "execution_count": 45,
   "metadata": {},
   "outputs": [
    {
     "name": "stdout",
     "output_type": "stream",
     "text": [
      "{'어려움이', '외국계', '국내', '시원한', '생각이', '쇼핑몰의', '납니다.', '가중되고', '공습으로', '있습니다.', '여름이면', '미숫가루가', '기업의'}\n"
     ]
    }
   ],
   "source": [
    "script1='외국계 쇼핑몰의 공습으로 국내 기업의 어려움이 가중되고 있습니다.'\n",
    "script2='여름이면 시원한 미숫가루가 생각이 납니다.'\n",
    "s1=script1.split()\n",
    "s2=script2.split()\n",
    "s1=set(s1)\n",
    "s2=set(s2)\n",
    "result=s1.union(s2)\n",
    "print(result)"
   ]
  },
  {
   "cell_type": "code",
   "execution_count": null,
   "metadata": {},
   "outputs": [],
   "source": []
  }
 ],
 "metadata": {
  "kernelspec": {
   "display_name": "Python 3",
   "language": "python",
   "name": "python3"
  },
  "language_info": {
   "codemirror_mode": {
    "name": "ipython",
    "version": 3
   },
   "file_extension": ".py",
   "mimetype": "text/x-python",
   "name": "python",
   "nbconvert_exporter": "python",
   "pygments_lexer": "ipython3",
   "version": "3.12.5"
  }
 },
 "nbformat": 4,
 "nbformat_minor": 2
}
