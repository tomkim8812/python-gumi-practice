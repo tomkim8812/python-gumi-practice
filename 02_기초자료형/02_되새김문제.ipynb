{
 "cells": [
  {
   "cell_type": "code",
   "execution_count": 2,
   "metadata": {},
   "outputs": [
    {
     "name": "stdout",
     "output_type": "stream",
     "text": [
      "홍길동의 평균 점수:  70.0\n"
     ]
    }
   ],
   "source": [
    "#1 평균 점수 구하기\n",
    "grades={'국어': 80, '영어': 75, '수학': 55}\n",
    "a=[grades.get('국어'), grades.get('영어'), grades.get('수학')]\n",
    "print('홍길동의 평균 점수: ', (a[0]+a[1]+a[2])/len(a))"
   ]
  },
  {
   "cell_type": "code",
   "execution_count": 63,
   "metadata": {},
   "outputs": [
    {
     "name": "stdout",
     "output_type": "stream",
     "text": [
      "13이 홀수면 True, 짝수면 False:  True\n"
     ]
    }
   ],
   "source": [
    "#2 홀수, 짝수 판별하기\n",
    "a=13\n",
    "print(f'{a}이 홀수면 True, 짝수면 False: ',a%2==1)"
   ]
  },
  {
   "cell_type": "code",
   "execution_count": 30,
   "metadata": {},
   "outputs": [
    {
     "name": "stdout",
     "output_type": "stream",
     "text": [
      "881120\n",
      "1068234\n"
     ]
    }
   ],
   "source": [
    "#3 주민등록번호 나누기\n",
    "pin='881120-1068234'\n",
    "yyyymmdd=pin[:6]\n",
    "num=pin[7:]\n",
    "print(yyyymmdd)\n",
    "print(num)"
   ]
  },
  {
   "cell_type": "code",
   "execution_count": 33,
   "metadata": {},
   "outputs": [
    {
     "name": "stdout",
     "output_type": "stream",
     "text": [
      "성별을 나타내는 숫자: 1 = 남자\n"
     ]
    }
   ],
   "source": [
    "#4 주민등록번호 인덱싱\n",
    "pin='881120-1068234'\n",
    "print(f'성별을 나타내는 숫자: {pin[7]} = 남자')"
   ]
  },
  {
   "cell_type": "code",
   "execution_count": 34,
   "metadata": {},
   "outputs": [
    {
     "name": "stdout",
     "output_type": "stream",
     "text": [
      "a#b#c#d\n"
     ]
    }
   ],
   "source": [
    "#5 문자열 바꾸기\n",
    "a='a:b:c:d'\n",
    "b=a.replace(':', '#')\n",
    "print(b)"
   ]
  },
  {
   "cell_type": "code",
   "execution_count": 38,
   "metadata": {},
   "outputs": [
    {
     "name": "stdout",
     "output_type": "stream",
     "text": [
      "[1, 2, 3, 4, 5]\n",
      "[5, 4, 3, 2, 1]\n"
     ]
    }
   ],
   "source": [
    "#6 리스트 역순 정렬하기\n",
    "a=[1,3,5,4,2]\n",
    "a.sort()\n",
    "a.reverse()\n",
    "# a.sort(reverse=True)\n",
    "print(a)"
   ]
  },
  {
   "cell_type": "code",
   "execution_count": 65,
   "metadata": {},
   "outputs": [
    {
     "name": "stdout",
     "output_type": "stream",
     "text": [
      "Life is too short\n"
     ]
    }
   ],
   "source": [
    "#7 리스트를 문자열로 만들기\n",
    "a=['Life', 'is', 'too', 'short']\n",
    "result=\" \".join(a)\n",
    "print(result)"
   ]
  },
  {
   "cell_type": "code",
   "execution_count": 67,
   "metadata": {},
   "outputs": [
    {
     "name": "stdout",
     "output_type": "stream",
     "text": [
      "(1, 2, 3, 4)\n"
     ]
    }
   ],
   "source": [
    "#8 튜플 더하기\n",
    "a=(1,2,3)\n",
    "a=a+(4,)\n",
    "print(a)"
   ]
  },
  {
   "cell_type": "code",
   "execution_count": 70,
   "metadata": {},
   "outputs": [
    {
     "name": "stdout",
     "output_type": "stream",
     "text": [
      "처음:  {}\n",
      "1:  {'name': 'python'}\n",
      "2:  {'name': 'python', ('a',): 'python'}\n",
      "4:  {'name': 'python', ('a',): 'python', 250: 'python'}\n"
     ]
    }
   ],
   "source": [
    "#9 딕셔너리의 키\n",
    "a=dict()\n",
    "print('처음: ', a)\n",
    "a['name']='python'\n",
    "print('1: ', a)\n",
    "a[('a',)]='python'\n",
    "print('2: ', a)\n",
    "# a[[1]]='python'\n",
    "# print('3: ', a)\n",
    "a[250]='python'\n",
    "print('4: ', a)"
   ]
  },
  {
   "cell_type": "code",
   "execution_count": 54,
   "metadata": {},
   "outputs": [
    {
     "name": "stdout",
     "output_type": "stream",
     "text": [
      "{'A': 90, 'C': 70}\n",
      "80\n"
     ]
    }
   ],
   "source": [
    "#10 딕셔너리 값 추출하기\n",
    "a={'A':90, 'B':80, 'C':70}\n",
    "result=a.pop('B')\n",
    "print(a)\n",
    "print(result)"
   ]
  },
  {
   "cell_type": "code",
   "execution_count": 57,
   "metadata": {},
   "outputs": [
    {
     "name": "stdout",
     "output_type": "stream",
     "text": [
      "[1, 2, 3, 4, 5]\n"
     ]
    }
   ],
   "source": [
    "#11 리스트에서 중복 제거하기\n",
    "a=[1,1,1,2,2,3,3,3,4,4,5]\n",
    "aSet=set(a)\n",
    "b=list(aSet)\n",
    "print(b)"
   ]
  },
  {
   "cell_type": "code",
   "execution_count": 58,
   "metadata": {},
   "outputs": [
    {
     "name": "stdout",
     "output_type": "stream",
     "text": [
      "[1, 4, 3]\n"
     ]
    }
   ],
   "source": [
    "#12 파이썬 변수\n",
    "a=b=[1,2,3]\n",
    "a[1]=4\n",
    "print(b)"
   ]
  }
 ],
 "metadata": {
  "kernelspec": {
   "display_name": "Python 3",
   "language": "python",
   "name": "python3"
  },
  "language_info": {
   "codemirror_mode": {
    "name": "ipython",
    "version": 3
   },
   "file_extension": ".py",
   "mimetype": "text/x-python",
   "name": "python",
   "nbconvert_exporter": "python",
   "pygments_lexer": "ipython3",
   "version": "3.12.5"
  }
 },
 "nbformat": 4,
 "nbformat_minor": 2
}
