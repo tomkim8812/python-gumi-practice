{
 "cells": [
  {
   "cell_type": "markdown",
   "metadata": {},
   "source": [
    "1. 사용자로부터 문자를 입력받아 문자의 길이를 출력하는 프로그램을 만드세요."
   ]
  },
  {
   "cell_type": "code",
   "execution_count": 2,
   "metadata": {},
   "outputs": [
    {
     "name": "stdout",
     "output_type": "stream",
     "text": [
      "문자의 길이: 6\n"
     ]
    }
   ],
   "source": [
    "a_1=input(\"문자 입력\")\n",
    "print(f\"문자의 길이: {len(a)}\")"
   ]
  },
  {
   "cell_type": "markdown",
   "metadata": {},
   "source": [
    "2. 사용자로부터 문자를 입력받아 첫 글자와 마지막 글자를 출력하는 프로그램을 만드세요. "
   ]
  },
  {
   "cell_type": "code",
   "execution_count": 3,
   "metadata": {},
   "outputs": [
    {
     "name": "stdout",
     "output_type": "stream",
     "text": [
      "첫 글자: t\n",
      "마지막 글자: e\n"
     ]
    }
   ],
   "source": [
    "a_2=input(\"문자 입력\")\n",
    "print(f\"첫 글자: {a_2[0]}\")\n",
    "print(f\"마지막 글자: {a_2[-1]}\")"
   ]
  },
  {
   "cell_type": "markdown",
   "metadata": {},
   "source": [
    "3. 사용자가 입력한 반지름을 사용하여 원의 면적을 계사하는 프로그램을 만드세요(원의면적은: (3.14) * 반지름의 제곱)"
   ]
  },
  {
   "cell_type": "code",
   "execution_count": 33,
   "metadata": {},
   "outputs": [
    {
     "name": "stdout",
     "output_type": "stream",
     "text": [
      "원의 면적: 50.24\n"
     ]
    }
   ],
   "source": [
    "a_3=input(\"반지름(r) 입력\")\n",
    "r=int(a_3)\n",
    "pi=3.14\n",
    "print(f\"원의 면적: {pi*r**2}\")"
   ]
  },
  {
   "cell_type": "markdown",
   "metadata": {},
   "source": [
    "4. 3번의 숫자를 입력을 받아 평균을 구하는 프로그램을 만드세요."
   ]
  },
  {
   "cell_type": "code",
   "execution_count": 18,
   "metadata": {},
   "outputs": [
    {
     "name": "stdout",
     "output_type": "stream",
     "text": [
      "세 숫자의 평균: 2.0\n"
     ]
    }
   ],
   "source": [
    "a_4=int(input(\"숫자1 입력\")), int(input(\"숫자2 입력\")), int(input(\"숫자3 입력\"))\n",
    "print(f\"세 숫자의 평균: {sum(a_4)/len(a_4)}\")\n"
   ]
  },
  {
   "cell_type": "markdown",
   "metadata": {},
   "source": [
    "5. 아래 문자열에서 문자열 슬라이싱을 사용하여 '금메달'을 추출해 주세요\n",
    "* a = \"“잠자는 경기장의 공주” 낮잠 자고 일어나 금메달 딴 女선수 화제\""
   ]
  },
  {
   "cell_type": "code",
   "execution_count": 35,
   "metadata": {},
   "outputs": [
    {
     "name": "stdout",
     "output_type": "stream",
     "text": [
      "금메달\n"
     ]
    }
   ],
   "source": [
    "a = \"“잠자는 경기장의 공주” 낮잠 자고 일어나 금메달 딴 女선수 화제\"\n",
    "print(a[24:27])"
   ]
  },
  {
   "cell_type": "markdown",
   "metadata": {},
   "source": [
    "6. 5번 문제에서의 문자열 중 '공주'를 '왕자'로 바꿔주세요"
   ]
  },
  {
   "cell_type": "code",
   "execution_count": 23,
   "metadata": {},
   "outputs": [
    {
     "name": "stdout",
     "output_type": "stream",
     "text": [
      "“잠자는 경기장의 왕자” 낮잠 자고 일어나 금메달 딴 女선수 화제\n"
     ]
    }
   ],
   "source": [
    "a = \"“잠자는 경기장의 공주” 낮잠 자고 일어나 금메달 딴 女선수 화제\"\n",
    "print(a.replace(\"공주\", \"왕자\"))"
   ]
  },
  {
   "cell_type": "markdown",
   "metadata": {},
   "source": [
    "7. a = \"himzei@gmail.com\" 에서 find() 함수를 이용하여 'himzei'만 추출하세요 "
   ]
  },
  {
   "cell_type": "code",
   "execution_count": 28,
   "metadata": {},
   "outputs": [
    {
     "name": "stdout",
     "output_type": "stream",
     "text": [
      "himzei\n"
     ]
    }
   ],
   "source": [
    "a = \"himzei@gmail.com\"\n",
    "print(a[a.find(\"h\"):a.find(\"@\")])"
   ]
  },
  {
   "cell_type": "markdown",
   "metadata": {},
   "source": [
    "8. 이름, 취미, MBTI를 입력받아 변수에 담은 뒤, 출력하세요(3가지 문자열 출력방법 활용 ex)%s, format(), f\"\")"
   ]
  },
  {
   "cell_type": "code",
   "execution_count": 2,
   "metadata": {},
   "outputs": [
    {
     "name": "stdout",
     "output_type": "stream",
     "text": [
      "이름: 1, 취미: 2, MBTI: 3\n",
      "저의 이름은 1이고 취미는 2이고, MBTI는 3입니다.\n"
     ]
    }
   ],
   "source": [
    "name=input(\"이름은?\")\n",
    "hobby=input(\"취미는?\")\n",
    "MBTI=input(\"MBTI는?\")\n",
    "print(f\"이름: {name}, 취미: {hobby}, MBTI: {MBTI}\")\n",
    "print(f\"저의 이름은 {name}이고 취미는 {hobby}이고, MBTI는 {MBTI}입니다.\")"
   ]
  },
  {
   "cell_type": "markdown",
   "metadata": {},
   "source": []
  }
 ],
 "metadata": {
  "kernelspec": {
   "display_name": "Python 3",
   "language": "python",
   "name": "python3"
  },
  "language_info": {
   "codemirror_mode": {
    "name": "ipython",
    "version": 3
   },
   "file_extension": ".py",
   "mimetype": "text/x-python",
   "name": "python",
   "nbconvert_exporter": "python",
   "pygments_lexer": "ipython3",
   "version": "3.12.4"
  }
 },
 "nbformat": 4,
 "nbformat_minor": 2
}
