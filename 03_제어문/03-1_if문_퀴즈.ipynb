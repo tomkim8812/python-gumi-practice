{
 "cells": [
  {
   "cell_type": "markdown",
   "metadata": {},
   "source": [
    "1. 주어진 세 개의 변수를 사용하여 다음 조건을 모두 만족하는 경우에만 \"Hello Python\"을 출력하는 코드를 작성하세요.\n",
    "* x는 짝수여야 한다.\n",
    "* y는 0보다 커야 한다.\n",
    "* z는 x와 y의 합보다 작아야 한다."
   ]
  },
  {
   "cell_type": "code",
   "execution_count": 32,
   "metadata": {},
   "outputs": [
    {
     "name": "stdout",
     "output_type": "stream",
     "text": [
      "Hello Python\n"
     ]
    }
   ],
   "source": [
    "x = 8\n",
    "y = 5\n",
    "z = 12\n",
    "if x%2==1:\n",
    "    print('x는 홀수이다.')\n",
    "elif y<=0:\n",
    "    print('y는 0보다 크지 않다.')\n",
    "elif z>x+y:\n",
    "    print('z는 x와 y의 합보다 크다.')\n",
    "else:\n",
    "    print('Hello Python')\n",
    "    \n",
    "# if x%2==1 and y>0 and z<x+y:\n",
    "#     print('Hello Python')"
   ]
  },
  {
   "cell_type": "markdown",
   "metadata": {},
   "source": [
    "2. 사용자로부터 입력받은 숫자가 짝수이면 \"짝수!\" 홀수 이면 \"홀수\"라고 출력하세요 "
   ]
  },
  {
   "cell_type": "code",
   "execution_count": 4,
   "metadata": {},
   "outputs": [
    {
     "name": "stdout",
     "output_type": "stream",
     "text": [
      "홀수!\n"
     ]
    }
   ],
   "source": [
    "a=int(input('숫자 입력'))\n",
    "if a%2==0:\n",
    "    print('짝수!')\n",
    "else:\n",
    "    print('홀수!')"
   ]
  },
  {
   "cell_type": "markdown",
   "metadata": {},
   "source": [
    "3. 사용자로 부터 나이를 입력받으세요. 입력받은 수가 19세미만이면 \"미성년자입니다.\" 19세이상 65세미만 이면 \"성인입니다\" 65세이상이면 \"아직 청춘입니다.\" 라고 출력하세요"
   ]
  },
  {
   "cell_type": "code",
   "execution_count": 8,
   "metadata": {},
   "outputs": [
    {
     "name": "stdout",
     "output_type": "stream",
     "text": [
      "성인입니다.\n"
     ]
    }
   ],
   "source": [
    "a=int(input('나이 입력'))\n",
    "if a<19:\n",
    "    print('미성년자입니다.')\n",
    "elif a>=19 and a<65:\n",
    "    print('성인입니다.')\n",
    "else:\n",
    "    print('아직 청춘입니다.')"
   ]
  },
  {
   "cell_type": "markdown",
   "metadata": {},
   "source": [
    "4. 주어진 문자열 text에 특정 단어 keyword가 포함되어 있는지 검사하는 코드를 작성하세요. 포함되어 있으면 \"Keyword found\", 포함되어 있지 않으면 \"Keyword not found\"를 출력하세요."
   ]
  },
  {
   "cell_type": "code",
   "execution_count": 33,
   "metadata": {},
   "outputs": [
    {
     "name": "stdout",
     "output_type": "stream",
     "text": [
      "Keyword found\n"
     ]
    }
   ],
   "source": [
    "text = \"Life is too short, You need python\"\n",
    "keyword = \"python\"\n",
    "if keyword in text:\n",
    "    print('Keyword found')\n",
    "else:\n",
    "    print('Keyword not found')"
   ]
  },
  {
   "cell_type": "markdown",
   "metadata": {},
   "source": [
    "5. 주어진 리스트 numbers에서 가장 큰 값이 짝수인지 홀수인지를 판단하는 코드를 작성하세요. 가장 큰 값이 짝수이면 \"가장 큰 수는 짝수입니다!\", 홀수이면 \"가장 큰 수는 홀수입니다\"를 출력하세요."
   ]
  },
  {
   "cell_type": "code",
   "execution_count": 24,
   "metadata": {},
   "outputs": [
    {
     "name": "stdout",
     "output_type": "stream",
     "text": [
      "가장 큰 수는 짝수입니다!\n"
     ]
    }
   ],
   "source": [
    "numbers = [34, 15, 88, 2, 47]\n",
    "if max(numbers)%2==0:\n",
    "    print('가장 큰 수는 짝수입니다!')\n",
    "else:\n",
    "    print('가장 큰 수는 홀수입니다!')"
   ]
  },
  {
   "cell_type": "markdown",
   "metadata": {},
   "source": [
    "6. 계산기를 만들어주세요. num1, num2에 입력값을 받아주세요. operator 변수는 (+, -, *, /) 중 하나를 입력 받으세요. operator 로 입력받은 값에 따라 num1 과 num2 를 연산하세요 "
   ]
  },
  {
   "cell_type": "code",
   "execution_count": 30,
   "metadata": {},
   "outputs": [
    {
     "name": "stdout",
     "output_type": "stream",
     "text": [
      "10 / 4 = 2.5\n"
     ]
    }
   ],
   "source": [
    "num1=int(input('입력값1'))\n",
    "num2=int(input('입력값2'))\n",
    "operator=input('+, -, *, / 중 택1')\n",
    "if operator=='+':\n",
    "    print(f'{num1} + {num2} = {num1+num2}')\n",
    "elif operator=='-':\n",
    "    print(f'{num1} - {num2} = {num1-num2}')\n",
    "elif operator=='*':\n",
    "    print(f'{num1} * {num2} = {num1*num2}')\n",
    "elif operator=='/':\n",
    "    print(f'{num1} / {num2} = {num1/num2}')"
   ]
  }
 ],
 "metadata": {
  "kernelspec": {
   "display_name": "Python 3",
   "language": "python",
   "name": "python3"
  },
  "language_info": {
   "codemirror_mode": {
    "name": "ipython",
    "version": 3
   },
   "file_extension": ".py",
   "mimetype": "text/x-python",
   "name": "python",
   "nbconvert_exporter": "python",
   "pygments_lexer": "ipython3",
   "version": "3.12.5"
  }
 },
 "nbformat": 4,
 "nbformat_minor": 2
}
