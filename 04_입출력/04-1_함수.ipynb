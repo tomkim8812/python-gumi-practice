{
 "cells": [
  {
   "cell_type": "markdown",
   "metadata": {},
   "source": [
    "### 함수란 무엇인가?"
   ]
  },
  {
   "cell_type": "code",
   "execution_count": 5,
   "metadata": {},
   "outputs": [
    {
     "name": "stdout",
     "output_type": "stream",
     "text": [
      "9\n",
      "30\n"
     ]
    }
   ],
   "source": [
    "'''\n",
    "def 함수_이름(매개변수):\n",
    "    수행할_문장1\n",
    "    수행할_문장2\n",
    "'''\n",
    "def add(a,b):\n",
    "    return a+b\n",
    "c=add(4,5)\n",
    "print(c)\n",
    "d=add(10,20)\n",
    "print(d)"
   ]
  },
  {
   "cell_type": "code",
   "execution_count": 6,
   "metadata": {},
   "outputs": [
    {
     "data": {
      "text/plain": [
       "7"
      ]
     },
     "execution_count": 6,
     "metadata": {},
     "output_type": "execute_result"
    }
   ],
   "source": [
    "# 일반적인 함수\n",
    "def add(a,b):\n",
    "    result=a+b\n",
    "    return result\n",
    "add(3,4)"
   ]
  },
  {
   "cell_type": "code",
   "execution_count": null,
   "metadata": {},
   "outputs": [],
   "source": [
    "# 입력값이 없는 함수\n",
    "def say(): \n",
    "    return \"HI\"\n",
    "a = say()\n",
    "print(a)"
   ]
  },
  {
   "cell_type": "code",
   "execution_count": 1,
   "metadata": {},
   "outputs": [
    {
     "name": "stdout",
     "output_type": "stream",
     "text": [
      "10, 20의 합은 30입니다\n",
      "None\n"
     ]
    }
   ],
   "source": [
    "# 리턴 값이 없는 함수 \n",
    "def add(a, b): \n",
    "    print(f\"{a}, {b}의 합은 {a + b}입니다\")\n",
    "result = add(10, 20)     \n",
    "print(result)"
   ]
  },
  {
   "cell_type": "code",
   "execution_count": 2,
   "metadata": {},
   "outputs": [
    {
     "name": "stdout",
     "output_type": "stream",
     "text": [
      "Hi\n",
      "None\n"
     ]
    }
   ],
   "source": [
    "# 입력값도 리턴값도 없는 함수 \n",
    "def say(): \n",
    "    print(\"Hi\")\n",
    "result = say()\n",
    "print(result)"
   ]
  },
  {
   "cell_type": "code",
   "execution_count": 5,
   "metadata": {},
   "outputs": [
    {
     "name": "stdout",
     "output_type": "stream",
     "text": [
      "4\n",
      "-2\n"
     ]
    }
   ],
   "source": [
    "# 매개변수를 지정하여 호출하기\n",
    "def sub(a=7,b=3):\n",
    "    return a-b\n",
    "result=sub(a=7,b=3)\n",
    "print(result)\n",
    "result=sub(b=5,a=3)\n",
    "print(result)"
   ]
  },
  {
   "cell_type": "code",
   "execution_count": 11,
   "metadata": {},
   "outputs": [
    {
     "name": "stdout",
     "output_type": "stream",
     "text": [
      "10\n",
      "55\n"
     ]
    }
   ],
   "source": [
    "# 여러 개의 입력값을 받는 함수 만들기\n",
    "def add_many(*args):\n",
    "    result=0\n",
    "    for i in args:\n",
    "        result=result+i\n",
    "    return result\n",
    "result=add_many(1,2,3,4)\n",
    "print(result)\n",
    "result=add_many(1,2,3,4,5,6,7,8,9,10)\n",
    "print(result)"
   ]
  },
  {
   "cell_type": "code",
   "execution_count": 14,
   "metadata": {},
   "outputs": [
    {
     "name": "stdout",
     "output_type": "stream",
     "text": [
      "10\n",
      "24\n"
     ]
    }
   ],
   "source": [
    "def add_mul(choice,*args):\n",
    "    if choice == 'add':\n",
    "        result=0\n",
    "        for i in args:\n",
    "            result = result+i\n",
    "    elif choice == 'mul':\n",
    "        result=1\n",
    "        for i in args:\n",
    "            result=result*i\n",
    "    return result\n",
    "result1=add_mul('add',1,2,3,4)\n",
    "print(result1)\n",
    "result2=add_mul('mul',1,2,3,4)\n",
    "print(result2)"
   ]
  },
  {
   "cell_type": "code",
   "execution_count": 6,
   "metadata": {},
   "outputs": [
    {
     "name": "stdout",
     "output_type": "stream",
     "text": [
      "('hello', 'python', 'is', 'life')\n",
      "{'name': '홍길동', 'age': 30}\n"
     ]
    }
   ],
   "source": [
    "# 키워드 매개변수 **kwargs\n",
    "def print_args(*args):\n",
    "    print(args)\n",
    "def print_kwargs(**kwargs):\n",
    "    print(kwargs)\n",
    "print_args('hello', 'python', 'is', 'life')\n",
    "print_kwargs(name='홍길동', age=30)"
   ]
  },
  {
   "cell_type": "code",
   "execution_count": 8,
   "metadata": {},
   "outputs": [
    {
     "name": "stdout",
     "output_type": "stream",
     "text": [
      "(15, 50)\n"
     ]
    }
   ],
   "source": [
    "# 함수의 리턴값은 언제나 하나이다.\n",
    "def add_and_mul(a,b):\n",
    "    return a+b,a*b\n",
    "result=add_and_mul(10,5)\n",
    "print(result)"
   ]
  },
  {
   "cell_type": "code",
   "execution_count": 10,
   "metadata": {},
   "outputs": [
    {
     "name": "stdout",
     "output_type": "stream",
     "text": [
      "6\n"
     ]
    }
   ],
   "source": [
    "def add_and_mul(a,b):\n",
    "    return a*b\n",
    "    return a+b\n",
    "result=add_and_mul(2,3)\n",
    "print(result)"
   ]
  },
  {
   "cell_type": "code",
   "execution_count": 13,
   "metadata": {},
   "outputs": [],
   "source": [
    "def say_nick(nick): # nick = '야호'\n",
    "    if nick=='바보':\n",
    "        return\n",
    "    print(f'나의 별명은 {nick}입니다')\n",
    "# say_nick('야호')\n",
    "say_nick('바보')\n"
   ]
  },
  {
   "cell_type": "code",
   "execution_count": 15,
   "metadata": {},
   "outputs": [
    {
     "name": "stdout",
     "output_type": "stream",
     "text": [
      "나의 이름은 박응용입니다.\n",
      "나의 나이는 27입니다.\n",
      "여자입니다.\n"
     ]
    }
   ],
   "source": [
    "# 매개변수에 초깃값 미리 설정하기\n",
    "def say_myself(name, age, man=True):\n",
    "    print(f'나의 이름은 {name}입니다.')\n",
    "    print(f'나의 나이는 {age}입니다.')\n",
    "    if man:\n",
    "        print('남자입니다.')\n",
    "    else:\n",
    "        print('여자입니다.')\n",
    "say_myself('박응용',27,False)"
   ]
  },
  {
   "cell_type": "code",
   "execution_count": 19,
   "metadata": {},
   "outputs": [
    {
     "name": "stdout",
     "output_type": "stream",
     "text": [
      "나의 이름은 박응용입니다.\n",
      "나의 나이는 28입니다.\n",
      "남자입니다.\n"
     ]
    }
   ],
   "source": [
    "def say_myself(name, man=True, age=28):\n",
    "    print(f'나의 이름은 {name}입니다.')\n",
    "    print(f'나의 나이는 {age}입니다.')\n",
    "    if man:\n",
    "        print('남자입니다.')\n",
    "    else:\n",
    "        print('여자입니다.')\n",
    "say_myself('박응용',1)"
   ]
  },
  {
   "cell_type": "code",
   "execution_count": 24,
   "metadata": {},
   "outputs": [
    {
     "name": "stdout",
     "output_type": "stream",
     "text": [
      "5\n",
      "1\n"
     ]
    }
   ],
   "source": [
    "# 함수 안에서 선언한 변수의 효력범위\n",
    "a=1\n",
    "c=5\n",
    "def vartest(a): # a=1\n",
    "    a=a+1 # a=2\n",
    "    print(c)\n",
    "vartest(a) # a=1 -> vartest(1)\n",
    "print(a)"
   ]
  },
  {
   "cell_type": "code",
   "execution_count": 25,
   "metadata": {},
   "outputs": [
    {
     "name": "stdout",
     "output_type": "stream",
     "text": [
      "7\n"
     ]
    }
   ],
   "source": [
    "# lambda 예약어\n",
    "# 함수_이름 = lambda 매개변수1, 매개변수2....: 수행할 문장\n",
    "add=lambda a,b: a+b\n",
    "result=add(3,4)\n",
    "print(result)"
   ]
  },
  {
   "cell_type": "code",
   "execution_count": null,
   "metadata": {},
   "outputs": [],
   "source": []
  }
 ],
 "metadata": {
  "kernelspec": {
   "display_name": "Python 3",
   "language": "python",
   "name": "python3"
  },
  "language_info": {
   "codemirror_mode": {
    "name": "ipython",
    "version": 3
   },
   "file_extension": ".py",
   "mimetype": "text/x-python",
   "name": "python",
   "nbconvert_exporter": "python",
   "pygments_lexer": "ipython3",
   "version": "3.12.5"
  }
 },
 "nbformat": 4,
 "nbformat_minor": 2
}
