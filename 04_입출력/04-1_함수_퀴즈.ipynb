{
 "cells": [
  {
   "cell_type": "markdown",
   "metadata": {},
   "source": [
    "퀴즈 1: 덧셈 함수 만들기\n",
    "문제: 두 개의 숫자를 입력받아 그 합을 반환하는 함수를 작성하세요.\n",
    "* 함수이름은 add_number"
   ]
  },
  {
   "cell_type": "code",
   "execution_count": 9,
   "metadata": {},
   "outputs": [
    {
     "data": {
      "text/plain": [
       "10"
      ]
     },
     "execution_count": 9,
     "metadata": {},
     "output_type": "execute_result"
    }
   ],
   "source": [
    "\n",
    "def add_number(a,b):\n",
    "    result=a+b\n",
    "    return result\n",
    "add_number(4,6)\n"
   ]
  },
  {
   "cell_type": "markdown",
   "metadata": {},
   "source": [
    "퀴즈 2: 짝수 확인 함수 만들기\n",
    "문제: 주어진 숫자가 짝수인지 홀수인지 판별하는 함수를 작성하세요.\n",
    "\n"
   ]
  },
  {
   "cell_type": "code",
   "execution_count": 14,
   "metadata": {},
   "outputs": [
    {
     "name": "stdout",
     "output_type": "stream",
     "text": [
      "4는 짝수입니다.\n",
      "5는 홀수입니다.\n"
     ]
    }
   ],
   "source": [
    "def ddd(a):\n",
    "    if a%2==0:\n",
    "        print(f'{a}는 짝수입니다.')\n",
    "    else:\n",
    "        print(f'{a}는 홀수입니다.')\n",
    "ddd(4)\n",
    "ddd(5)"
   ]
  },
  {
   "cell_type": "markdown",
   "metadata": {},
   "source": [
    "퀴즈 3: 리스트에서 최대값 찾기\n",
    "문제: 주어진 리스트에서 최대값을 찾는 함수를 작성하세요.\n",
    "* max() 함수를 사용하지 않고 직접 구현해보세요.\n"
   ]
  },
  {
   "cell_type": "code",
   "execution_count": 20,
   "metadata": {},
   "outputs": [
    {
     "ename": "TypeError",
     "evalue": "'>' not supported between instances of 'list' and 'int'",
     "output_type": "error",
     "traceback": [
      "\u001b[1;31m---------------------------------------------------------------------------\u001b[0m",
      "\u001b[1;31mTypeError\u001b[0m                                 Traceback (most recent call last)",
      "Cell \u001b[1;32mIn[20], line 7\u001b[0m\n\u001b[0;32m      5\u001b[0m             amax\u001b[38;5;241m=\u001b[39ma\n\u001b[0;32m      6\u001b[0m     \u001b[38;5;28;01mreturn\u001b[39;00m a\n\u001b[1;32m----> 7\u001b[0m result\u001b[38;5;241m=\u001b[39m\u001b[43mmax1\u001b[49m\u001b[43m(\u001b[49m\u001b[43m[\u001b[49m\u001b[38;5;241;43m1\u001b[39;49m\u001b[43m,\u001b[49m\u001b[38;5;241;43m2\u001b[39;49m\u001b[43m,\u001b[49m\u001b[38;5;241;43m3\u001b[39;49m\u001b[43m,\u001b[49m\u001b[38;5;241;43m4\u001b[39;49m\u001b[43m,\u001b[49m\u001b[38;5;241;43m5\u001b[39;49m\u001b[43m,\u001b[49m\u001b[38;5;241;43m6\u001b[39;49m\u001b[43m]\u001b[49m\u001b[43m)\u001b[49m\n\u001b[0;32m      8\u001b[0m \u001b[38;5;28mprint\u001b[39m(result)\n",
      "Cell \u001b[1;32mIn[20], line 4\u001b[0m, in \u001b[0;36mmax1\u001b[1;34m(a)\u001b[0m\n\u001b[0;32m      2\u001b[0m amax\u001b[38;5;241m=\u001b[39ma[\u001b[38;5;241m0\u001b[39m]\n\u001b[0;32m      3\u001b[0m \u001b[38;5;28;01mfor\u001b[39;00m i \u001b[38;5;129;01min\u001b[39;00m a:\n\u001b[1;32m----> 4\u001b[0m     \u001b[38;5;28;01mif\u001b[39;00m \u001b[43ma\u001b[49m\u001b[43m \u001b[49m\u001b[38;5;241;43m>\u001b[39;49m\u001b[43m \u001b[49m\u001b[43mamax\u001b[49m:\n\u001b[0;32m      5\u001b[0m         amax\u001b[38;5;241m=\u001b[39ma\n\u001b[0;32m      6\u001b[0m \u001b[38;5;28;01mreturn\u001b[39;00m a\n",
      "\u001b[1;31mTypeError\u001b[0m: '>' not supported between instances of 'list' and 'int'"
     ]
    }
   ],
   "source": [
    "def max1(a):\n",
    "    amax=a[0]\n",
    "    for i in a:\n",
    "        if a > amax:\n",
    "            amax=a\n",
    "    return a\n",
    "result=max1([1,2,3,4,5,6])\n",
    "print(result)"
   ]
  },
  {
   "cell_type": "markdown",
   "metadata": {},
   "source": [
    "퀴즈 4: 구구단 출력하기\n",
    "문제: 주어진 숫자에 대해 구구단을 출력하는 함수를 작성하세요."
   ]
  },
  {
   "cell_type": "code",
   "execution_count": 11,
   "metadata": {},
   "outputs": [
    {
     "name": "stdout",
     "output_type": "stream",
     "text": [
      "7 * 1 = 7\n",
      "7 * 2 = 14\n",
      "7 * 3 = 21\n",
      "7 * 4 = 28\n",
      "7 * 5 = 35\n",
      "7 * 6 = 42\n",
      "7 * 7 = 49\n",
      "7 * 8 = 56\n",
      "7 * 9 = 63\n"
     ]
    }
   ],
   "source": [
    "def gugu(a):\n",
    "    for i in range(1,10):\n",
    "        print(f'{a} * {i} = {a*i}')\n",
    "gugu(7)"
   ]
  },
  {
   "cell_type": "markdown",
   "metadata": {},
   "source": [
    "퀴즈 5. 날짜 2024-08-21 10:00 를 24년 8월 21일로 바꾸는 함수를 만들어 주세요 "
   ]
  },
  {
   "cell_type": "code",
   "execution_count": 27,
   "metadata": {},
   "outputs": [
    {
     "data": {
      "text/plain": [
       "'24년 8월 21일'"
      ]
     },
     "execution_count": 27,
     "metadata": {},
     "output_type": "execute_result"
    }
   ],
   "source": [
    "def cal(a):\n",
    "    result=f'{a[2:4]}년 {a[6]}월 {a[8:10]}일'\n",
    "    return result\n",
    "cal('2024-08-21 10:00')"
   ]
  },
  {
   "cell_type": "markdown",
   "metadata": {},
   "source": [
    "퀴즈 6: 특정 단어 세기\n",
    "문제: 주어진 문장에서 특정 단어가 몇 번 나타나는지 세는 함수를 작성하세요.\n",
    "* 함수이름은 count_word\n",
    "* 함수는 두 개의 매개변수 sentence와 word를 받아야 합니다.\n",
    "\n"
   ]
  },
  {
   "cell_type": "code",
   "execution_count": null,
   "metadata": {},
   "outputs": [],
   "source": [
    "def count_word(sentence, word):\n",
    "    a=sentence.count(word)\n",
    "    return f'{word}가 포함된 횟수{a}'\n"
   ]
  }
 ],
 "metadata": {
  "kernelspec": {
   "display_name": "Python 3",
   "language": "python",
   "name": "python3"
  },
  "language_info": {
   "codemirror_mode": {
    "name": "ipython",
    "version": 3
   },
   "file_extension": ".py",
   "mimetype": "text/x-python",
   "name": "python",
   "nbconvert_exporter": "python",
   "pygments_lexer": "ipython3",
   "version": "3.12.5"
  }
 },
 "nbformat": 4,
 "nbformat_minor": 2
}
